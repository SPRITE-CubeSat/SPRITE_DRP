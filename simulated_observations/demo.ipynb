{
 "cells": [
  {
   "cell_type": "code",
   "execution_count": null,
   "metadata": {},
   "outputs": [],
   "source": [
    "'''\n",
    "Demonstration of how to use simulation code to create\n",
    "2D and 1D spectral models\n",
    "\n",
    "Remember to edit the configuration file with your\n",
    "own constants before calling function\n",
    "'''"
   ]
  },
  {
   "cell_type": "code",
   "execution_count": null,
   "metadata": {},
   "outputs": [],
   "source": [
    "# Import .py files\n",
    "import sys\n",
    "\n",
    "# Edit directory path to where you store your code \n",
    "sys.path.extend([\"path_to_downloaded_code\"])\n",
    "\n",
    "# Import \"get_all_supernova_data\" function\n",
    "from call_all_supernova_func import get_all_supernova_data"
   ]
  },
  {
   "cell_type": "code",
   "execution_count": null,
   "metadata": {},
   "outputs": [],
   "source": [
    "# Edit \"sprite_sim_config.py\" file for your exposure time, etc\n",
    "# Set input files\n",
    "\n",
    "profileName = r\"/N132D\"  # Name of brightness profile\n",
    "number = 12  # Number of brightness profiles (total pushbroom steps)\n",
    "slitfile  = \"filled_slit_1000s231002-160115.fits\"  # SPRITE detector data (.fits file)\n",
    "fileFUSE = \"FUSE_N132D.fits\"  # FUSE fits file for specific SNR\n",
    "fileIUE  = \"IUE_N132D.fits\"   # IUE fits file for specific SNR\n",
    "eff_area_file = \"SPRITE_effa.dat\"  # SPRITE effective area text file"
   ]
  },
  {
   "cell_type": "code",
   "execution_count": null,
   "metadata": {},
   "outputs": [],
   "source": [
    "# Call function using set variables\n",
    "get_all_supernova_data(slitfile, fileFUSE, fileIUE, eff_area_file, profileName, number)"
   ]
  }
 ],
 "metadata": {
  "language_info": {
   "name": "python"
  }
 },
 "nbformat": 4,
 "nbformat_minor": 2
}
